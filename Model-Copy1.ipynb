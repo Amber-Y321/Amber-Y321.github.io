{
 "cells": [
  {
   "cell_type": "code",
   "execution_count": null,
   "metadata": {
    "id": "4JDSdUyICj-O"
   },
   "outputs": [],
   "source": [
    "import numpy as np\n",
    "import pandas as pd\n",
    "from matplotlib import pyplot as plt\n",
    "from pandas.core.frame import DataFrame\n",
    "import math"
   ]
  },
  {
   "cell_type": "code",
   "execution_count": null,
   "metadata": {
    "id": "-xQjLuwMCrx8"
   },
   "outputs": [],
   "source": [
    "from tensorflow.keras.models import Sequential\n",
    "from tensorflow.keras.layers import Dense, Activation, LSTM,GRU\n",
    "from tensorflow.keras.optimizers import RMSprop, Adam, SGD\n",
    "from tensorflow.keras.callbacks import LambdaCallback, ModelCheckpoint\n",
    "from tensorflow.keras.layers import Conv2D \n",
    "from keras.utils import np_utils\n",
    "import tensorflow as tf\n",
    "from sklearn.preprocessing import MinMaxScaler"
   ]
  },
  {
   "cell_type": "code",
   "execution_count": null,
   "metadata": {
    "id": "R1pSgMR7Cvcp"
   },
   "outputs": [],
   "source": [
    "import numpy as np\n",
    "import scipy.io\n",
    "import h5py\n",
    "import keras\n",
    "import os\n",
    "from keras.layers import *\n",
    "from keras.layers.core import *\n",
    "from keras.models import *\n",
    "from keras.regularizers import *\n",
    "from keras import metrics\n",
    "from keras import backend as K\n",
    "from keras.backend import sum, mean, max\n",
    "from sklearn.model_selection import StratifiedKFold\n",
    "from sklearn.metrics import confusion_matrix\n",
    "from keras.callbacks import EarlyStopping\n",
    "#from keras_self_attention import SeqSelfAttention"
   ]
  },
  {
   "cell_type": "code",
   "execution_count": null,
   "metadata": {
    "id": "XicnRUSaCy0v"
   },
   "outputs": [],
   "source": [
    "import json\n",
    "with open('/content/drive/MyDrive/project_folder/data/basic_information/' + 'whole_train_4' + '.json','r') as json_file:\n",
    "  train = json.load(json_file)\n",
    "with open('/content/drive/MyDrive/project_folder/data/basic_information/' + 'whole_test_3' + '.json','r') as json_file:\n",
    "  test = json.load(json_file)"
   ]
  },
  {
   "cell_type": "code",
   "execution_count": null,
   "metadata": {
    "id": "D3uVabgPWhJc"
   },
   "outputs": [],
   "source": [
    "# replce inf with 0 in training set\n",
    "train_new=[]\n",
    "for i in range(len(train)):\n",
    "  df=pd.DataFrame(train[i])\n",
    "  df.replace(np.inf, 0, inplace=True)\n",
    "  train_new.append(df)"
   ]
  },
  {
   "cell_type": "code",
   "execution_count": null,
   "metadata": {
    "colab": {
     "base_uri": "https://localhost:8080/"
    },
    "executionInfo": {
     "elapsed": 17670,
     "status": "ok",
     "timestamp": 1619130470280,
     "user": {
      "displayName": "Yahan Yang",
      "photoUrl": "",
      "userId": "11937148336884681820"
     },
     "user_tz": 240
    },
    "id": "ZNKBCBdgWsaE",
    "outputId": "89131c0a-2cb7-44b2-cf56-eb05a6344481"
   },
   "outputs": [],
   "source": [
    "# check if there is inf in training set\n",
    "inf1=[]\n",
    "for i in range(len(train_new)):\n",
    "  for j in range (40):\n",
    "    for z in range(10):\n",
    "      if math.isinf(pd.DataFrame(train_new[i]).iloc[:,j][z])== True:\n",
    "        inf1.append(1)\n",
    "        print(i,j,z)\n",
    "\n",
    "len(inf1)"
   ]
  },
  {
   "cell_type": "code",
   "execution_count": null,
   "metadata": {
    "colab": {
     "base_uri": "https://localhost:8080/"
    },
    "executionInfo": {
     "elapsed": 139284,
     "status": "ok",
     "timestamp": 1619130615816,
     "user": {
      "displayName": "Yahan Yang",
      "photoUrl": "",
      "userId": "11937148336884681820"
     },
     "user_tz": 240
    },
    "id": "0Imzg-oiXGIP",
    "outputId": "3cc7b83d-92d4-4a4a-aa57-950ba26568bf"
   },
   "outputs": [],
   "source": [
    "# check if there is inf in test set\n",
    "inf1=[]\n",
    "for i in range(len(test)):\n",
    "  for j in range (40):\n",
    "    for z in range(10):\n",
    "      if math.isinf(pd.DataFrame(test[i]).iloc[:,j][z])== True:\n",
    "        inf1.append(1)\n",
    "        print(i,j,z)\n",
    "\n",
    "len(inf1)"
   ]
  },
  {
   "cell_type": "code",
   "execution_count": null,
   "metadata": {
    "id": "T7pRT0QcC1G-"
   },
   "outputs": [],
   "source": [
    "## split train and test\n",
    "import random\n",
    "random.shuffle(train_new)\n",
    "random.shuffle(test)\n",
    "\n",
    "#train = whole[:round(len(whole)*0.8)] \n",
    "#test = whole[round(len(whole)*0.8):]\n",
    "\n",
    "train =  train_new\n",
    "train_X = []\n",
    "train_Y = []\n",
    "#train_Y_10 = []\n",
    "\n",
    "for i in range(len(train)):\n",
    "  train_X.append(pd.DataFrame(train[i]).drop(['label'], axis = 1))\n",
    "  train_Y.append(pd.DataFrame(train[i])['label'][0]) # 10 timeseries to 1 label\n",
    "  #train_Y_10.append(pd.DataFrame(pd.DataFrame(train[i])['label'])) # 10 timeseries to 10 labels\n",
    "\n",
    "\n",
    "test_X = []\n",
    "test_Y = []\n",
    "#test_Y_10 = []\n",
    "\n",
    "for i in range(len(test)):\n",
    "  test_X.append(pd.DataFrame(test[i]).drop(columns = 'label'))\n",
    "  test_Y.append(pd.DataFrame(test[i])['label'][0])"
   ]
  },
  {
   "cell_type": "code",
   "execution_count": null,
   "metadata": {
    "id": "FsTJg67bC3Y-"
   },
   "outputs": [],
   "source": [
    "from keras.utils.np_utils import to_categorical\n",
    "NUM_LABELS = 2\n",
    "total_labels = [\"positive\", \"negative\"]\n",
    "\n",
    "for i in range(len(train_Y)):\n",
    "    if train_Y[i] == 'positive':\n",
    "      train_Y[i] = 1\n",
    "    else: train_Y[i] = 0\n",
    "\n",
    "for i in range(len(test_Y)):\n",
    "    if test_Y[i] == 'positive':\n",
    "      test_Y[i] = 1\n",
    "    else: test_Y[i] = 0"
   ]
  },
  {
   "cell_type": "code",
   "execution_count": null,
   "metadata": {
    "colab": {
     "base_uri": "https://localhost:8080/",
     "height": 281
    },
    "executionInfo": {
     "elapsed": 351,
     "status": "ok",
     "timestamp": 1619191764796,
     "user": {
      "displayName": "Yahan Yang",
      "photoUrl": "",
      "userId": "11937148336884681820"
     },
     "user_tz": 240
    },
    "id": "W4gQTlLKzVtz",
    "outputId": "bde7a38d-a6c9-403d-8078-282c20d9e55f"
   },
   "outputs": [],
   "source": [
    "# proportion\n",
    "label = ['negative', 'positve']\n",
    "label_1 = np.sum(np.array(train_Y))\n",
    "label_0 = len(train_Y) - label_1\n",
    "plt.bar([0,1], [label_0, label_1], align='center', alpha=0.7)\n",
    "plt.xticks(np.arange(2), label)\n",
    "plt.ylabel('Number')\n",
    "plt.title('Training Set Label Distribution')\n",
    "plt.show()"
   ]
  },
  {
   "cell_type": "code",
   "execution_count": null,
   "metadata": {
    "colab": {
     "base_uri": "https://localhost:8080/"
    },
    "executionInfo": {
     "elapsed": 434,
     "status": "ok",
     "timestamp": 1619184011497,
     "user": {
      "displayName": "Yahan Yang",
      "photoUrl": "",
      "userId": "11937148336884681820"
     },
     "user_tz": 240
    },
    "id": "URapdT6ySxeR",
    "outputId": "df98eda1-a63f-43da-aeb0-da5e0fc28e77"
   },
   "outputs": [],
   "source": [
    "np.mean(train_Y)"
   ]
  },
  {
   "cell_type": "code",
   "execution_count": null,
   "metadata": {
    "id": "AcD9M3Kbd9fp"
   },
   "outputs": [],
   "source": [
    "def plot_confusion_matrix(y_true, y_pred, title = \"Confusion Matrix\",\n",
    "                          cmap = plt.cm.Blues, save_flg = False):\n",
    "  #classes = [str(i) for i in range(2)]\n",
    "  classes = ['negative', 'positive']\n",
    "  labels = range(2)\n",
    "  cm = confusion_matrix(y_true, y_pred, labels=labels)\n",
    "  plt.figure(figsize=(7, 6))\n",
    "  plt.imshow(cm, interpolation='nearest', cmap=cmap)\n",
    "  plt.title(title, fontsize=20)\n",
    "  plt.colorbar()\n",
    "  tick_marks = np.arange(len(classes))\n",
    "  plt.xticks(tick_marks, classes, fontsize=10)\n",
    "  plt.yticks(tick_marks, classes, fontsize=10)\n",
    "  print('Confusion matrix, without normalization')\n",
    "  thresh = cm.max() / 2.\n",
    "  for i, j in itertools.product(range(cm.shape[0]), range(cm.shape[1])):\n",
    "      plt.text(j, i, cm[i, j],\n",
    "                horizontalalignment=\"center\",\n",
    "                color=\"white\" if cm[i, j] > thresh else \"black\")\n",
    "  plt.ylabel('True label', fontsize=15)\n",
    "  plt.xlabel('Predicted label', fontsize=15)\n",
    "  if save_flg:\n",
    "      plt.savefig(\"./confusion_matrix.png\")\n",
    "  plt.show()"
   ]
  },
  {
   "cell_type": "code",
   "execution_count": null,
   "metadata": {
    "id": "r-_a9d__0baQ"
   },
   "outputs": [],
   "source": [
    "# Model 2\n",
    "def get_col(col):\n",
    "  def func(x):\n",
    "    return x[:,:,col:col+1]\n",
    "  return Lambda(func)"
   ]
  },
  {
   "cell_type": "code",
   "execution_count": null,
   "metadata": {
    "id": "3_4xB0yW1NZb"
   },
   "outputs": [],
   "source": [
    "input = Input(shape=(10,3))\n",
    "lstm_units = 8\n",
    "LSTM1 = LSTM(lstm_units, return_sequences=True, implementation=1)(input)\n",
    "Dropout1 = Dropout(0.1)(LSTM1)\n",
    "LSTM2 = LSTM(lstm_units, return_sequences=True, implementation=1)(Dropout1)\n",
    "Dropout2 = Dropout(0.1)(LSTM2)\n",
    "LSTM3 = LSTM(lstm_units, return_sequences=True, implementation=1)(Dropout2)\n",
    "Dropout3 = Dropout(0.1)(LSTM3)\n",
    "LSTMMODEL = Model(inputs=input, outputs=Dropout3)\n",
    "LSTMMODEL.summary()"
   ]
  },
  {
   "cell_type": "code",
   "execution_count": null,
   "metadata": {
    "id": "zITcx7540c1O"
   },
   "outputs": [],
   "source": [
    "\n",
    "inputs = Input(shape=(10, 40)) # 10 frames * 40 features\n",
    "\n",
    "# Each body part concludes one angle and distance of two line sengemnts\n",
    "#BODY PART 1                            \n",
    "angle1=get_col(0)(inputs)\n",
    "d_11=get_col(19)(inputs)\n",
    "d_21=get_col(20)(inputs)\n",
    "B1=concatenate([angle1, d_11,d_21], axis=-1)\n",
    "print(B1)\n",
    "TemporalAttention = Conv1D(1, 1, strides=1)(LSTMMODEL(B1))\n",
    "TemporalAttention = Softmax(axis=-2, name='TemporalAttention1')(TemporalAttention)\n",
    "out = multiply([LSTMMODEL(B1), TemporalAttention])\n",
    "out = Lambda(lambda x: sum(x, axis=1, keepdims=True))(out)\n",
    "Blast1 = Permute((2, 1), input_shape=(inputs, lstm_units))(out)\n",
    "\n",
    "#BODY PART 2  \n",
    "angle2=get_col(1)(inputs)\n",
    "d_12=get_col(19)(inputs)\n",
    "d_22=get_col(21)(inputs)\n",
    "B2=concatenate([angle2, d_12,d_22], axis=-1)\n",
    "TemporalAttention = Conv1D(1, 1, strides=1)(LSTMMODEL(B2))\n",
    "TemporalAttention = Softmax(axis=-2, name='TemporalAttention2')(TemporalAttention)\n",
    "out = multiply([LSTMMODEL(B2), TemporalAttention])\n",
    "out = Lambda(lambda x: sum(x, axis=1, keepdims=True))(out)\n",
    "Blast2 = Permute((2, 1), input_shape=(inputs, lstm_units))(out)\n",
    "\n",
    "#BODY PART 3  \n",
    "angle3=get_col(2)(inputs)\n",
    "d_13=get_col(20)(inputs)\n",
    "d_23=get_col(22)(inputs)\n",
    "B3=concatenate([angle3, d_13,d_23], axis=-1)\n",
    "TemporalAttention = Conv1D(1, 1, strides=1)(LSTMMODEL(B3))\n",
    "TemporalAttention = Softmax(axis=-2, name='TemporalAttention3')(TemporalAttention)\n",
    "out = multiply([LSTMMODEL(B3), TemporalAttention])\n",
    "out = Lambda(lambda x: sum(x, axis=1, keepdims=True))(out)\n",
    "Blast3 = Permute((2, 1), input_shape=(inputs, lstm_units))(out)\n",
    "\n",
    "#BODY PART 4  \n",
    "angle4=get_col(3)(inputs)\n",
    "d_14=get_col(20)(inputs)\n",
    "d_24=get_col(23)(inputs)\n",
    "B4=concatenate([angle4, d_14,d_24], axis=-1)\n",
    "TemporalAttention = Conv1D(1, 1, strides=1)(LSTMMODEL(B4))\n",
    "TemporalAttention = Softmax(axis=-2, name='TemporalAttention4')(TemporalAttention)\n",
    "out = multiply([LSTMMODEL(B4), TemporalAttention])\n",
    "out = Lambda(lambda x: sum(x, axis=1, keepdims=True))(out)\n",
    "Blast4 = Permute((2, 1), input_shape=(inputs, lstm_units))(out)\n",
    "\n",
    "#BODY PART 5  \n",
    "angle5=get_col(4)(inputs)\n",
    "d_15=get_col(22)(inputs)\n",
    "d_25=get_col(24)(inputs)\n",
    "B5=concatenate([angle5, d_15,d_25], axis=-1)\n",
    "TemporalAttention = Conv1D(1, 1, strides=1)(LSTMMODEL(B5))\n",
    "TemporalAttention = Softmax(axis=-2, name='TemporalAttention5')(TemporalAttention)\n",
    "out = multiply([LSTMMODEL(B5), TemporalAttention])\n",
    "out = Lambda(lambda x: sum(x, axis=1, keepdims=True))(out)\n",
    "Blast5 = Permute((2, 1), input_shape=(inputs, lstm_units))(out)\n",
    "\n",
    "#BODY PART 6  \n",
    "angle6=get_col(5)(inputs)\n",
    "d_16=get_col(23)(inputs)\n",
    "d_26=get_col(25)(inputs)\n",
    "B6=concatenate([angle6, d_16,d_26], axis=-1)\n",
    "TemporalAttention = Conv1D(1, 1, strides=1)(LSTMMODEL(B6))\n",
    "TemporalAttention = Softmax(axis=-2, name='TemporalAttention6')(TemporalAttention)\n",
    "out = multiply([LSTMMODEL(B6), TemporalAttention])\n",
    "out = Lambda(lambda x: sum(x, axis=1, keepdims=True))(out)\n",
    "Blast6 = Permute((2, 1), input_shape=(inputs, lstm_units))(out)\n",
    "\n",
    "#BODY PART 7  \n",
    "angle7=get_col(6)(inputs)\n",
    "d_17=get_col(26)(inputs)\n",
    "d_27=get_col(27)(inputs)\n",
    "B7=concatenate([angle7, d_17,d_27], axis=-1)\n",
    "TemporalAttention = Conv1D(1, 1, strides=1)(LSTMMODEL(B7))\n",
    "TemporalAttention = Softmax(axis=-2, name='TemporalAttention7')(TemporalAttention)\n",
    "out = multiply([LSTMMODEL(B7), TemporalAttention])\n",
    "out = Lambda(lambda x: sum(x, axis=1, keepdims=True))(out)\n",
    "Blast7 = Permute((2, 1), input_shape=(inputs, lstm_units))(out)\n",
    "\n",
    "#BODY PART 8  \n",
    "angle8=get_col(7)(inputs)\n",
    "d_18=get_col(26)(inputs)\n",
    "d_28=get_col(28)(inputs)\n",
    "B8=concatenate([angle8, d_18,d_28], axis=-1)\n",
    "TemporalAttention = Conv1D(1, 1, strides=1)(LSTMMODEL(B8))\n",
    "TemporalAttention = Softmax(axis=-2, name='TemporalAttention8')(TemporalAttention)\n",
    "out = multiply([LSTMMODEL(B8), TemporalAttention])\n",
    "out = Lambda(lambda x: sum(x, axis=1, keepdims=True))(out)\n",
    "Blast8 = Permute((2, 1), input_shape=(inputs,lstm_units))(out)\n",
    "\n",
    "#BODY PART 9  \n",
    "angle9=get_col(8)(inputs)\n",
    "d_19=get_col(27)(inputs)\n",
    "d_29=get_col(29)(inputs)\n",
    "B9=concatenate([angle9, d_19,d_29], axis=-1)\n",
    "TemporalAttention = Conv1D(1, 1, strides=1)(LSTMMODEL(B9))\n",
    "TemporalAttention = Softmax(axis=-2, name='TemporalAttention9')(TemporalAttention)\n",
    "out = multiply([LSTMMODEL(B9), TemporalAttention])\n",
    "out = Lambda(lambda x: sum(x, axis=1, keepdims=True))(out)\n",
    "Blast9 = Permute((2, 1), input_shape=(inputs, lstm_units))(out)\n",
    "\n",
    "#BODY PART 10  \n",
    "angle10=get_col(9)(inputs)\n",
    "d_110=get_col(28)(inputs)\n",
    "d_210=get_col(30)(inputs)\n",
    "B10=concatenate([angle10, d_110,d_210], axis=-1)\n",
    "TemporalAttention = Conv1D(1, 1, strides=1)(LSTMMODEL(B10))\n",
    "TemporalAttention = Softmax(axis=-2, name='TemporalAttention10')(TemporalAttention)\n",
    "out = multiply([LSTMMODEL(B10), TemporalAttention])\n",
    "out = Lambda(lambda x: sum(x, axis=1, keepdims=True))(out)\n",
    "Blast10 = Permute((2, 1), input_shape=(inputs, lstm_units))(out)\n",
    "\n",
    "#BODY PART 11  \n",
    "angle11=get_col(10)(inputs)\n",
    "d_111=get_col(29)(inputs)\n",
    "d_211=get_col(31)(inputs)\n",
    "B11=concatenate([angle11, d_111,d_211], axis=-1)\n",
    "TemporalAttention = Conv1D(1, 1, strides=1)(LSTMMODEL(B11))\n",
    "TemporalAttention = Softmax(axis=-2, name='TemporalAttention11')(TemporalAttention)\n",
    "out = multiply([LSTMMODEL(B11), TemporalAttention])\n",
    "out = Lambda(lambda x: sum(x, axis=1, keepdims=True))(out)\n",
    "Blast11 = Permute((2, 1), input_shape=(inputs, lstm_units))(out)\n",
    "\n",
    "#BODY PART 12  \n",
    "angle12=get_col(11)(inputs)\n",
    "d_112=get_col(30)(inputs)\n",
    "d_212=get_col(32)(inputs)\n",
    "B12=concatenate([angle12, d_112,d_212], axis=-1)\n",
    "TemporalAttention = Conv1D(1, 1, strides=1)(LSTMMODEL(B12))\n",
    "TemporalAttention = Softmax(axis=-2, name='TemporalAttention12')(TemporalAttention)\n",
    "out = multiply([LSTMMODEL(B12), TemporalAttention])\n",
    "out = Lambda(lambda x: sum(x, axis=1, keepdims=True))(out)\n",
    "Blast12 = Permute((2, 1), input_shape=(inputs, lstm_units))(out)\n",
    "\n",
    "#BODY PART 13  \n",
    "angle13=get_col(12)(inputs)\n",
    "d_113=get_col(33)(inputs)\n",
    "d_213=get_col(20)(inputs)\n",
    "B13=concatenate([angle13, d_113,d_213], axis=-1)\n",
    "TemporalAttention = Conv1D(1, 1, strides=1)(LSTMMODEL(B13))\n",
    "TemporalAttention = Softmax(axis=-2, name='TemporalAttention13')(TemporalAttention)\n",
    "out = multiply([LSTMMODEL(B13), TemporalAttention])\n",
    "out = Lambda(lambda x: sum(x, axis=1, keepdims=True))(out)\n",
    "Blast13 = Permute((2, 1), input_shape=(inputs, lstm_units))(out)\n",
    "\n",
    "#BODY PART 14  \n",
    "angle14=get_col(13)(inputs)\n",
    "d_114=get_col(34)(inputs)\n",
    "d_214=get_col(21)(inputs)\n",
    "B14=concatenate([angle14, d_114,d_214], axis=-1)\n",
    "TemporalAttention = Conv1D(1, 1, strides=1)(LSTMMODEL(B14))\n",
    "TemporalAttention = Softmax(axis=-2, name='TemporalAttention14')(TemporalAttention)\n",
    "out = multiply([LSTMMODEL(B14), TemporalAttention])\n",
    "out = Lambda(lambda x: sum(x, axis=1, keepdims=True))(out)\n",
    "Blast14 = Permute((2, 1), input_shape=(inputs, lstm_units))(out)\n",
    "\n",
    "#BODY PART 15  \n",
    "angle15=get_col(14)(inputs)\n",
    "d_115=get_col(35)(inputs)\n",
    "d_215=get_col(36)(inputs)\n",
    "B15=concatenate([angle15, d_115,d_215], axis=-1)\n",
    "TemporalAttention = Conv1D(1, 1, strides=1)(LSTMMODEL(B15))\n",
    "TemporalAttention = Softmax(axis=-2, name='TemporalAttention15')(TemporalAttention)\n",
    "out = multiply([LSTMMODEL(B15), TemporalAttention])\n",
    "out = Lambda(lambda x: sum(x, axis=1, keepdims=True))(out)\n",
    "Blast15 = Permute((2, 1), input_shape=(inputs, lstm_units))(out)\n",
    "\n",
    "#BODY PART 16  \n",
    "angle16=get_col(15)(inputs)\n",
    "d_116=get_col(35)(inputs)\n",
    "d_216=get_col(37)(inputs)\n",
    "B16=concatenate([angle16, d_116,d_216], axis=-1)\n",
    "TemporalAttention = Conv1D(1, 1, strides=1)(LSTMMODEL(B16))\n",
    "TemporalAttention = Softmax(axis=-2, name='TemporalAttention16')(TemporalAttention)\n",
    "out = multiply([LSTMMODEL(B16), TemporalAttention])\n",
    "out = Lambda(lambda x: sum(x, axis=1, keepdims=True))(out)\n",
    "Blast16 = Permute((2, 1), input_shape=(inputs, lstm_units))(out)\n",
    "\n",
    "#BODY PART 17  \n",
    "angle17=get_col(16)(inputs)\n",
    "d_117=get_col(35)(inputs)\n",
    "d_217=get_col(38)(inputs)\n",
    "B17=concatenate([angle17, d_117,d_217], axis=-1)\n",
    "TemporalAttention = Conv1D(1, 1, strides=1)(LSTMMODEL(B17))\n",
    "TemporalAttention = Softmax(axis=-2, name='TemporalAttention17')(TemporalAttention)\n",
    "out = multiply([LSTMMODEL(B17), TemporalAttention])\n",
    "out = Lambda(lambda x: sum(x, axis=1, keepdims=True))(out)\n",
    "Blast17 = Permute((2, 1), input_shape=(inputs, lstm_units))(out)\n",
    "\n",
    "#BODY PART 18  \n",
    "angle18=get_col(17)(inputs)\n",
    "d_118=get_col(35)(inputs)\n",
    "d_218=get_col(39)(inputs)\n",
    "B18=concatenate([angle18, d_118,d_218], axis=-1)\n",
    "TemporalAttention = Conv1D(1, 1, strides=1)(LSTMMODEL(B18))\n",
    "TemporalAttention = Softmax(axis=-2, name='TemporalAttention18')(TemporalAttention)\n",
    "out = multiply([LSTMMODEL(B18), TemporalAttention])\n",
    "out = Lambda(lambda x: sum(x, axis=1, keepdims=True))(out)\n",
    "Blast18 = Permute((2, 1), input_shape=(inputs, lstm_units))(out)\n",
    "\n",
    "#BODY PART 19  \n",
    "angle19=get_col(18)(inputs)\n",
    "d_119=get_col(19)(inputs)\n",
    "d_219=get_col(26)(inputs)\n",
    "B19=concatenate([angle19, d_119,d_219], axis=-1)\n",
    "TemporalAttention = Conv1D(1, 1, strides=1)(LSTMMODEL(B19))\n",
    "TemporalAttention = Softmax(axis=-2, name='TemporalAttention19')(TemporalAttention)\n",
    "out = multiply([LSTMMODEL(B19), TemporalAttention])\n",
    "out = Lambda(lambda x: sum(x, axis=1, keepdims=True))(out)\n",
    "Blast19 = Permute((2, 1), input_shape=(inputs, lstm_units))(out)\n",
    "\n",
    "DATA = concatenate([Blast1, Blast2, Blast3, Blast4, Blast5, Blast6, Blast7, Blast8,\n",
    "                        Blast9, Blast10, Blast11, Blast12, Blast13,Blast14,Blast15,Blast16,Blast17,Blast18,Blast19\n",
    "                        ], axis=2)\n",
    "#DATA=Blast\n",
    "# Handy and sufficient Bodily Attention Module\n",
    "#a = Dense(BodyNum, activation='tanh')(DATA)\n",
    "a = Dense(19, activation='tanh')(DATA)\n",
    "#a = Dense(BodyNum, activation='softmax', name='bodyattention')(a)\n",
    "a = Dense(19, activation='softmax', name='bodyattention')(a)\n",
    "attentionresult = multiply([DATA, a])\n",
    "attentionresult = Flatten()(attentionresult)\n",
    "output = Dense(2, activation='softmax')(attentionresult)\n",
    "\n",
    "TBMODEL = Model(inputs=inputs, outputs=output)\n",
    "TBMODEL.summary()"
   ]
  },
  {
   "cell_type": "code",
   "execution_count": null,
   "metadata": {
    "id": "Ty-KoiID7ZG8"
   },
   "outputs": [],
   "source": [
    "ada = keras.optimizers.Adam(lr=0.001)\n",
    "TBMODEL.compile(loss='sparse_categorical_crossentropy',\n",
    "                        optimizer=ada,\n",
    "                        metrics=['accuracy'])"
   ]
  },
  {
   "cell_type": "code",
   "execution_count": null,
   "metadata": {
    "id": "xS7mLB2mlbve"
   },
   "outputs": [],
   "source": [
    "# exponential learning rate\n",
    "initial_learning_rate = 0.1\n",
    "lr_schedule = tf.keras.optimizers.schedules.ExponentialDecay(\n",
    "    initial_learning_rate,\n",
    "    decay_steps=100,\n",
    "    decay_rate=0.95,\n",
    "    staircase=True)\n",
    "\n",
    "TBMODEL.compile(optimizer=tf.keras.optimizers.SGD(learning_rate=lr_schedule),\n",
    "              loss='sparse_categorical_crossentropy',\n",
    "              metrics=['accuracy'])\n",
    "TBMODEL.save_weights('model.h5')\n"
   ]
  },
  {
   "cell_type": "code",
   "execution_count": null,
   "metadata": {
    "id": "tEx6altCF4d3"
   },
   "outputs": [],
   "source": [
    "tensorboard3 = keras.callbacks.TensorBoard(run_logdir) \n",
    "checkpoint3 = keras.callbacks.ModelCheckpoint(file_dir + 'TBMODEL.h5',save_best_only=True)\n",
    "History3 = TBMODEL.fit(np.asarray(train_X), np.asarray(train_Y),\n",
    "                    epochs=200,\n",
    "                    validation_data=(np.asarray(test_X),np.asarray(test_Y)),callbacks=[checkpoint3,tensorboard3])"
   ]
  },
  {
   "cell_type": "code",
   "execution_count": null,
   "metadata": {
    "colab": {
     "base_uri": "https://localhost:8080/"
    },
    "id": "2lQ1d8v9H3Rd",
    "outputId": "66ccea16-8e4e-4544-e583-10d91c28a7f1"
   },
   "outputs": [],
   "source": [
    "tensorboard3 = keras.callbacks.TensorBoard(run_logdir) \n",
    "checkpoint3 = keras.callbacks.ModelCheckpoint(file_dir + 'TBMODEL.h5',save_best_only=True)\n",
    "es = EarlyStopping(monitor='val_loss', mode='min', verbose=1, patience=100, min_delta=0.0001,restore_best_weights=True)\n",
    "TBMODEL.load_weights('model.h5')\n",
    "History3 = TBMODEL.fit(np.asarray(train_X), np.asarray(train_Y),\n",
    "                    epochs=1000,\n",
    "                    validation_split = 0.1,callbacks=[es,tensorboard3])"
   ]
  },
  {
   "cell_type": "code",
   "execution_count": null,
   "metadata": {
    "id": "7aXm2veCRPrx"
   },
   "outputs": [],
   "source": [
    "History = TBMODEL.fit(np.asarray(train_X), np.asarray(train_Y),\n",
    "                    epochs=50,\n",
    "                    validation_split = 0.2)"
   ]
  },
  {
   "cell_type": "code",
   "execution_count": null,
   "metadata": {
    "colab": {
     "base_uri": "https://localhost:8080/"
    },
    "executionInfo": {
     "elapsed": 542,
     "status": "ok",
     "timestamp": 1618369973710,
     "user": {
      "displayName": "Yahan Yang",
      "photoUrl": "",
      "userId": "11937148336884681820"
     },
     "user_tz": 240
    },
    "id": "eyNaFCwfVbTM",
    "outputId": "83752180-bc7d-49fd-cb5a-d7f79d4217d0"
   },
   "outputs": [],
   "source": [
    "Pred_model_2 = model.predict(np.asarray(test_X))\n",
    "Pred_model_2 = np.argmax(Pred_model_2,1)\n",
    "Pred_model_2.shape"
   ]
  },
  {
   "cell_type": "code",
   "execution_count": null,
   "metadata": {
    "id": "MGN_a8cLVets"
   },
   "outputs": [],
   "source": [
    "plot_confusion_matrix(np.asarray(test_Y), Pred_model_2)\n",
    "\n",
    "from sklearn.metrics import precision_score, recall_score, f1_score, accuracy_score\n",
    "print('Precision of Model 1: %.3f' % precision_score(test_Y, Pred_model_2)) #TP / (FP + TP)\n",
    "print('Recall of Model 1: %.3f' % recall_score(test_Y, Pred_model_2)) #TP / (FN + TP)\n",
    "print('Accuracy of Model 1: %.3f' % accuracy_score(test_Y, Pred_model_2)) # (TP + TN)/ (TP + FN + TN + FP)\n",
    "print('F1 Score of Model 1: %.3f' % f1_score(test_Y, Pred_model_2)) # 2* Precision Score * Recall Score/ (Precision Score + Recall Score/)"
   ]
  }
 ],
 "metadata": {
  "colab": {
   "collapsed_sections": [],
   "name": "Copy of YYh 😆Model_revised_1.ipynb",
   "provenance": []
  },
  "kernelspec": {
   "display_name": "Python 3",
   "language": "python",
   "name": "python3"
  },
  "language_info": {
   "codemirror_mode": {
    "name": "ipython",
    "version": 3
   },
   "file_extension": ".py",
   "mimetype": "text/x-python",
   "name": "python",
   "nbconvert_exporter": "python",
   "pygments_lexer": "ipython3",
   "version": "3.8.3"
  }
 },
 "nbformat": 4,
 "nbformat_minor": 1
}
